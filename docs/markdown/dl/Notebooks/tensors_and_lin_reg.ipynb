{
 "cells": [
  {
   "cell_type": "markdown",
   "id": "ec397242-7f37-4380-9edb-27ae693101f2",
   "metadata": {
    "editable": true,
    "slideshow": {
     "slide_type": "slide"
    },
    "tags": []
   },
   "source": [
    "# Tensors Basics and Linear Regression\n",
    "\n",
    "### Machine Learning and Deep Learning Series\n",
    "\n",
    "\n",
    "*Author:*\n",
    "\n",
    "**Soumyadip Bhattacharjya**\n",
    "\n",
    "BSc Physics, MCA\n",
    "\n",
    "1. [Github](https://github.com/SoumyaCO)\n",
    "2. [Kaggle](https://www.kaggle.com/soumyadipbhat)\n",
    "3. [LinkedIN](https://www.linkedin.com/in/soumyadip-bhattacharjya-993974234)"
   ]
  },
  {
   "cell_type": "markdown",
   "id": "249f3105-bd01-44be-bf8c-efedd7121f8a",
   "metadata": {},
   "source": [
    "---\n",
    "<a id=\"0\"></a> <br>\n",
    " # Table of Contents \n",
    " 1. [Prerequisite](#0)\n",
    " 1. [tensors and vectors](#1)\n",
    "    1. [Why use tensors?](#1.1)\n",
    "    1. [Difference b/w Tensors and Vectors](#1.2)\n",
    " 1. [Why use PyTorch](#2)\n",
    "    1. [PyTorch Installation](#2.1)\n",
    "    1. [Basics of PyTorch](#2.2)\n",
    " 1. [Linear Regression](#3) "
   ]
  },
  {
   "cell_type": "markdown",
   "id": "8221e597-eec3-4475-bdf4-3cbef1d24e45",
   "metadata": {
    "editable": true,
    "slideshow": {
     "slide_type": "slide"
    },
    "tags": []
   },
   "source": [
    "<a id='0'></a>\n",
    "### Prerequisite:\n",
    "> 1. Minimum Understanding of Vectors, Linear Algebra, Matrix\n",
    "> 2. Intermediate Knowledge in Python (list slicing, indexing etc ..)\n",
    "> 3. Google Colab Account/Kaggle Account"
   ]
  },
  {
   "cell_type": "markdown",
   "id": "0a1cbae5-76b9-462e-8ccd-e84044e8f0c6",
   "metadata": {
    "editable": true,
    "slideshow": {
     "slide_type": "slide"
    },
    "tags": []
   },
   "source": [
    "<a id=\"1\"><a/>\n",
    "### Tensors and Vectors\n",
    "\n",
    "![Different Tensors](https://visagetechnologies.com/app/uploads/2022/08/Tensors.png)\n",
    "_Credit: [visagetechnologies.com](https://visagetechnologies.com/tensors-in-computer-vision/)_"
   ]
  },
  {
   "cell_type": "markdown",
   "id": "0427d231-8f0a-4337-a0e5-720b683750cf",
   "metadata": {
    "editable": true,
    "slideshow": {
     "slide_type": "slide"
    },
    "tags": []
   },
   "source": [
    "__Definition:__ A Tensor is a finite table of neumerical values indexing along several dimensions."
   ]
  },
  {
   "cell_type": "markdown",
   "id": "d09da974-3b0a-4880-a574-5a47cdd29f6a",
   "metadata": {
    "editable": true,
    "slideshow": {
     "slide_type": "fragment"
    },
    "tags": []
   },
   "source": [
    "- 0d tensor $\\rightarrow$ it's a scalar (e.g. _5_)\n",
    "- 1d tensor $\\rightarrow$ it's vector\n",
    "- 2d tensor $\\rightarrow$ it's a matrix (e.g. grascale image, DataFrame)\n",
    "- 3d tensor $\\rightarrow$ it can be an Image (coloured)\n",
    "- 4d tensor $\\rightarrow$ video (a sequence of multi channel images)\n",
    "- and so on .."
   ]
  },
  {
   "cell_type": "markdown",
   "id": "57cb9fcc-c398-43ad-9b96-3b61e480e165",
   "metadata": {
    "editable": true,
    "slideshow": {
     "slide_type": "fragment"
    },
    "tags": []
   },
   "source": [
    "<a id='1.1'></a>\n",
    "#### Why we use Tensors?\n",
    "From simple matrix multiplication to complex convolutions and pooling in CNNs, it is used everywhere\n",
    "\n",
    "- Through Tensors we can represent more diverse datatypes\n",
    "- Manipulating data through this structure is very fast in CPUs and GPUs\n"
   ]
  },
  {
   "cell_type": "markdown",
   "id": "5f0d2ffc-d851-4e18-9c57-25ea0e08a7ec",
   "metadata": {
    "editable": true,
    "slideshow": {
     "slide_type": "slide"
    },
    "tags": []
   },
   "source": [
    "<a id='1.2'></a>\n",
    "#### Difference b/w Tensors and Vectors\n",
    "![Vectors vs tensors](Media/tensor_vs_Vector.gif)\n",
    "\n",
    "The \"dimension\" of a __vector__ in linear algebra is its number of coefficients, \n",
    "\n",
    "while the \"dimension\" of a __tensor__ is the number of indeices to specify one of its coefficients."
   ]
  },
  {
   "cell_type": "markdown",
   "id": "61308e10-25cc-428d-8bd9-c705b9e458cd",
   "metadata": {
    "editable": true,
    "slideshow": {
     "slide_type": "slide"
    },
    "tags": []
   },
   "source": [
    "<a id='2'></a>\n",
    "### Why use PyTorch"
   ]
  },
  {
   "cell_type": "markdown",
   "id": "7d2858a9-86f1-4a11-9c19-71e63a7a8c18",
   "metadata": {
    "editable": true,
    "slideshow": {
     "slide_type": "fragment"
    },
    "tags": []
   },
   "source": [
    "1. We can make the calculations on CPU and GPUs\n",
    "2. Automatic Gradient Calculation (more on this later)\n",
    "3. More cutomisable controls over the program\n",
    "4. Optimizers\n",
    "5. Data I/O"
   ]
  },
  {
   "cell_type": "markdown",
   "id": "f139d456-122c-47ec-8114-b815adbb9771",
   "metadata": {
    "editable": true,
    "slideshow": {
     "slide_type": "slide"
    },
    "tags": []
   },
   "source": [
    "<a id='2.1'></a>\n",
    "#### PyTorch Installation:"
   ]
  },
  {
   "cell_type": "markdown",
   "id": "e81e029e-1a53-443c-99cd-1b8e0fc6d9be",
   "metadata": {
    "editable": true,
    "slideshow": {
     "slide_type": "fragment"
    },
    "tags": []
   },
   "source": [
    "![PyTorch Installing](Media/pytoch_installation.png)\n",
    "\n",
    "> 1. Go to the [Official PyTorch Website](https://pytorch.org/get-started/locally/)\n",
    "> 2. Select your platform (options)\n",
    "> 3. Copy the Command and paste it in the terminal"
   ]
  },
  {
   "cell_type": "markdown",
   "id": "6e00efee-825d-443b-9559-abd210a55555",
   "metadata": {
    "editable": true,
    "slideshow": {
     "slide_type": "slide"
    },
    "tags": []
   },
   "source": [
    "<a id='2.2'></a>\n",
    "#### Basics of PyTorch"
   ]
  },
  {
   "cell_type": "code",
   "execution_count": 1,
   "id": "fa8371e0-2451-40da-8828-695bde612f30",
   "metadata": {
    "editable": true,
    "slideshow": {
     "slide_type": "fragment"
    },
    "tags": []
   },
   "outputs": [],
   "source": [
    "# import the PyTorch Library\n",
    "import torch"
   ]
  },
  {
   "cell_type": "code",
   "execution_count": 2,
   "id": "2ba4f753-9357-4942-97f7-9b9aaae6c03a",
   "metadata": {
    "editable": true,
    "slideshow": {
     "slide_type": "fragment"
    },
    "tags": []
   },
   "outputs": [
    {
     "data": {
      "text/plain": [
       "'2.2.1'"
      ]
     },
     "execution_count": 2,
     "metadata": {},
     "output_type": "execute_result"
    }
   ],
   "source": [
    "# Check the version\n",
    "torch.__version__"
   ]
  },
  {
   "cell_type": "code",
   "execution_count": 3,
   "id": "b27dc0e6-5eb8-4e65-8722-8c99fd0c1bcf",
   "metadata": {
    "editable": true,
    "slideshow": {
     "slide_type": "fragment"
    },
    "tags": []
   },
   "outputs": [
    {
     "data": {
      "text/plain": [
       "False"
      ]
     },
     "execution_count": 3,
     "metadata": {},
     "output_type": "execute_result"
    }
   ],
   "source": [
    "# Also you can check for GPU availability\n",
    "torch.cuda.is_available()"
   ]
  },
  {
   "cell_type": "markdown",
   "id": "57f94ea8-bf98-4b6b-b827-0bbfb460e0b0",
   "metadata": {},
   "source": [
    "I am using an M1 Mac so `Cuda` is not available. But there is an accelerator called mps (it runs on mac GPU)"
   ]
  },
  {
   "cell_type": "code",
   "execution_count": 4,
   "id": "a51f5ace-ee14-45f3-88f6-1fa081da3134",
   "metadata": {
    "editable": true,
    "slideshow": {
     "slide_type": "subslide"
    },
    "tags": []
   },
   "outputs": [
    {
     "data": {
      "text/plain": [
       "True"
      ]
     },
     "execution_count": 4,
     "metadata": {},
     "output_type": "execute_result"
    }
   ],
   "source": [
    "# Check for mps \n",
    "torch.backends.mps.is_available()"
   ]
  },
  {
   "cell_type": "markdown",
   "id": "f89d3a67-8196-4459-81f4-c59387802047",
   "metadata": {},
   "source": [
    "__Basic Tensor declaration__"
   ]
  },
  {
   "cell_type": "code",
   "execution_count": 5,
   "id": "07068c8c-55af-4b08-a3c4-2a795ae44ccd",
   "metadata": {
    "editable": true,
    "slideshow": {
     "slide_type": "fragment"
    },
    "tags": []
   },
   "outputs": [
    {
     "data": {
      "text/plain": [
       "tensor([2, 3, 4])"
      ]
     },
     "execution_count": 5,
     "metadata": {},
     "output_type": "execute_result"
    }
   ],
   "source": [
    "t1 = torch.tensor([2, 3, 4])\n",
    "t1"
   ]
  },
  {
   "cell_type": "code",
   "execution_count": 6,
   "id": "0692307f-6793-4536-8c63-e80d9541993a",
   "metadata": {
    "editable": true,
    "slideshow": {
     "slide_type": "fragment"
    },
    "tags": []
   },
   "outputs": [
    {
     "data": {
      "text/plain": [
       "tensor([[2, 3, 4],\n",
       "        [5, 6, 8]])"
      ]
     },
     "execution_count": 6,
     "metadata": {},
     "output_type": "execute_result"
    }
   ],
   "source": [
    "# 2d tensor\n",
    "t2 = torch.tensor([[2, 3, 4],\n",
    "                 [5, 6, 8]])\n",
    "t2"
   ]
  },
  {
   "cell_type": "code",
   "execution_count": 7,
   "id": "bddf3ff5-ae34-4ef3-adc8-7138e8deb5d6",
   "metadata": {
    "editable": true,
    "slideshow": {
     "slide_type": ""
    },
    "tags": []
   },
   "outputs": [
    {
     "data": {
      "text/plain": [
       "(torch.Size([3]), torch.Size([2, 3]))"
      ]
     },
     "execution_count": 7,
     "metadata": {},
     "output_type": "execute_result"
    }
   ],
   "source": [
    "# We can determine the size of a tensor by `size` method\n",
    "t1.size(), t2.size()"
   ]
  },
  {
   "cell_type": "code",
   "execution_count": 8,
   "id": "6d9d0f84-131b-401a-b616-0ee64608aa69",
   "metadata": {},
   "outputs": [
    {
     "name": "stdout",
     "output_type": "stream",
     "text": [
      "Dimension of t1: 1\n",
      "Dimension of t2: 2\n"
     ]
    }
   ],
   "source": [
    "# Similarly we can get their number of dimensions also\n",
    "print(f\"Dimension of t1: {t1.dim()}\\nDimension of t2: {t2.dim()}\")"
   ]
  },
  {
   "cell_type": "markdown",
   "id": "2c49e5f7-ad96-405a-98db-7a91c5c8b437",
   "metadata": {},
   "source": [
    "It provides aggregation functions like sum, mean etc."
   ]
  },
  {
   "cell_type": "code",
   "execution_count": 9,
   "id": "17be0528-29ec-4ff3-b124-2ec89c7adafb",
   "metadata": {},
   "outputs": [
    {
     "data": {
      "text/plain": [
       "tensor(9)"
      ]
     },
     "execution_count": 9,
     "metadata": {},
     "output_type": "execute_result"
    }
   ],
   "source": [
    "t1.sum()"
   ]
  },
  {
   "cell_type": "code",
   "execution_count": 10,
   "id": "ce3f4878-6975-4113-bab9-15f3a1c43535",
   "metadata": {},
   "outputs": [
    {
     "data": {
      "text/plain": [
       "tensor(28)"
      ]
     },
     "execution_count": 10,
     "metadata": {},
     "output_type": "execute_result"
    }
   ],
   "source": [
    "t2.sum()"
   ]
  },
  {
   "cell_type": "markdown",
   "id": "ce07053c-eba0-4e1c-a5bf-ed7805be3877",
   "metadata": {},
   "source": [
    "We can see it returns a 0 dimensional tensor. To get it in form of a scalar we can use `.item()` method."
   ]
  },
  {
   "cell_type": "code",
   "execution_count": 11,
   "id": "d4bb1ee8-8036-4af3-808d-bc78b0276b4e",
   "metadata": {},
   "outputs": [
    {
     "data": {
      "text/plain": [
       "28"
      ]
     },
     "execution_count": 11,
     "metadata": {},
     "output_type": "execute_result"
    }
   ],
   "source": [
    "t2.sum().item()"
   ]
  },
  {
   "cell_type": "markdown",
   "id": "48d19080-c0e9-4499-9711-71e85072c8d9",
   "metadata": {},
   "source": [
    "It offers elementwise operations unlike a python list (and like numpy, but it has GPU acceleration)"
   ]
  },
  {
   "cell_type": "code",
   "execution_count": 12,
   "id": "ffbff67d-546a-47c1-8de1-a9c3162636d9",
   "metadata": {
    "editable": true,
    "slideshow": {
     "slide_type": ""
    },
    "tags": []
   },
   "outputs": [
    {
     "name": "stdout",
     "output_type": "stream",
     "text": [
      "PyTorch Tensor Output: tensor([11., 23., 34.])\n",
      "Python List Output: [10.0, 20.0, 30.0, [1.0, 3.0, 4.0]]\n"
     ]
    }
   ],
   "source": [
    "x_list = [10., 20., 30.]\n",
    "y_list = [[1., 3., 4.]]\n",
    "x = torch.tensor([10., 20., 30.])\n",
    "y = torch.tensor([1., 3., 4.])\n",
    "print(f\"PyTorch Tensor Output: {x + y}\\nPython List Output: {x_list + y_list}\")"
   ]
  },
  {
   "cell_type": "markdown",
   "id": "d9ca2ec5-fce2-428f-933d-3ca5aa2f73ff",
   "metadata": {},
   "source": [
    "As NumPy we can have random tensors too."
   ]
  },
  {
   "cell_type": "code",
   "execution_count": 13,
   "id": "8ddd96fd-c91d-430c-b579-e659fed84618",
   "metadata": {
    "editable": true,
    "slideshow": {
     "slide_type": ""
    },
    "tags": []
   },
   "outputs": [
    {
     "data": {
      "text/plain": [
       "tensor([[6, 4, 2, 4],\n",
       "        [7, 7, 3, 5]])"
      ]
     },
     "execution_count": 13,
     "metadata": {},
     "output_type": "execute_result"
    }
   ],
   "source": [
    "x = torch.randint(10, (2, 4))  #<---- (range, (shape))\n",
    "x"
   ]
  },
  {
   "cell_type": "markdown",
   "id": "5339978c-f113-4f0e-920c-f885d7dc0ebe",
   "metadata": {},
   "source": [
    "<a id='3'></a>\n",
    "### Linear Regression"
   ]
  },
  {
   "cell_type": "markdown",
   "id": "a19f9806-2778-4cc9-8cf9-87f1f1b2e7ec",
   "metadata": {},
   "source": [
    "For Linear Regression we assume that our features (X) depends on y linearly, and try to fit a line with approprieate slope and bias values.\n",
    "\n",
    "In order to explain this I'm going to take a small toy dataset."
   ]
  },
  {
   "cell_type": "code",
   "execution_count": 14,
   "id": "71e7e1a9-968c-4cbb-9073-d1cd626d90d6",
   "metadata": {
    "editable": true,
    "slideshow": {
     "slide_type": "slide"
    },
    "tags": []
   },
   "outputs": [],
   "source": [
    "import pandas as pd   #<--- for data manipulations\n",
    "import matplotlib.pyplot as plt"
   ]
  },
  {
   "cell_type": "code",
   "execution_count": 15,
   "id": "74cdf8b5-2217-4b81-a716-ffb7c272bce9",
   "metadata": {
    "editable": true,
    "slideshow": {
     "slide_type": "fragment"
    },
    "tags": []
   },
   "outputs": [
    {
     "data": {
      "text/html": [
       "<div>\n",
       "<style scoped>\n",
       "    .dataframe tbody tr th:only-of-type {\n",
       "        vertical-align: middle;\n",
       "    }\n",
       "\n",
       "    .dataframe tbody tr th {\n",
       "        vertical-align: top;\n",
       "    }\n",
       "\n",
       "    .dataframe thead th {\n",
       "        text-align: right;\n",
       "    }\n",
       "</style>\n",
       "<table border=\"1\" class=\"dataframe\">\n",
       "  <thead>\n",
       "    <tr style=\"text-align: right;\">\n",
       "      <th></th>\n",
       "      <th>age</th>\n",
       "      <th>blood_pressure</th>\n",
       "    </tr>\n",
       "  </thead>\n",
       "  <tbody>\n",
       "    <tr>\n",
       "      <th>0</th>\n",
       "      <td>39</td>\n",
       "      <td>144</td>\n",
       "    </tr>\n",
       "    <tr>\n",
       "      <th>1</th>\n",
       "      <td>47</td>\n",
       "      <td>220</td>\n",
       "    </tr>\n",
       "    <tr>\n",
       "      <th>2</th>\n",
       "      <td>45</td>\n",
       "      <td>138</td>\n",
       "    </tr>\n",
       "    <tr>\n",
       "      <th>3</th>\n",
       "      <td>47</td>\n",
       "      <td>145</td>\n",
       "    </tr>\n",
       "    <tr>\n",
       "      <th>4</th>\n",
       "      <td>65</td>\n",
       "      <td>162</td>\n",
       "    </tr>\n",
       "  </tbody>\n",
       "</table>\n",
       "</div>"
      ],
      "text/plain": [
       "   age  blood_pressure\n",
       "0   39             144\n",
       "1   47             220\n",
       "2   45             138\n",
       "3   47             145\n",
       "4   65             162"
      ]
     },
     "execution_count": 15,
     "metadata": {},
     "output_type": "execute_result"
    }
   ],
   "source": [
    "data = pd.read_csv('systolic-blood-pressure-vs-age.csv')\n",
    "data.head()"
   ]
  },
  {
   "cell_type": "markdown",
   "id": "c41d13a5-357f-44fd-95aa-7138a17ef295",
   "metadata": {},
   "source": [
    "If we plot a graph we can notice a linear relationship between the `age` and `blood_pressure`"
   ]
  },
  {
   "cell_type": "code",
   "execution_count": 16,
   "id": "c7284cf5-3568-4df2-a66c-9dc7017e4c93",
   "metadata": {
    "editable": true,
    "slideshow": {
     "slide_type": "slide"
    },
    "tags": []
   },
   "outputs": [
    {
     "data": {
      "text/plain": [
       "<Axes: xlabel='age', ylabel='blood_pressure'>"
      ]
     },
     "execution_count": 16,
     "metadata": {},
     "output_type": "execute_result"
    },
    {
     "data": {
      "image/png": "[encoded data removed]",
      "text/plain": [
       "<Figure size 600x400 with 1 Axes>"
      ]
     },
     "metadata": {},
     "output_type": "display_data"
    }
   ],
   "source": [
    "data.plot(kind='scatter', x='age', y='blood_pressure', figsize=(6, 4))"
   ]
  },
  {
   "cell_type": "markdown",
   "id": "a2f065e8-3858-47a3-a991-8eec141e44b8",
   "metadata": {
    "editable": true,
    "slideshow": {
     "slide_type": "slide"
    },
    "tags": []
   },
   "source": [
    "Also the data is not entirely linear, it has some noise and also some outliers as we can see in the plot.\n",
    "\n",
    "<img src='Media/plot_outlier.png' style=\"height:300px;\"/>"
   ]
  },
  {
   "cell_type": "markdown",
   "id": "09e9bb7b-1cc4-4cd0-8668-1426c180cee9",
   "metadata": {
    "editable": true,
    "slideshow": {
     "slide_type": "slide"
    },
    "tags": []
   },
   "source": [
    "Now we have to define the model (linear regressor) which is very simple\n",
    "The equation of the model is:\n",
    "\n",
    "<h1>$$y = w x + b$$</h1>\n",
    "\n",
    "where,\n",
    "- w $\\rightarrow$ weight (slope)\n",
    "- b $\\rightarrow$ bias (offset)"
   ]
  },
  {
   "cell_type": "markdown",
   "id": "5564a624-abcb-464b-b947-d2e14669968f",
   "metadata": {
    "editable": true,
    "slideshow": {
     "slide_type": "slide"
    },
    "tags": []
   },
   "source": [
    "First we initialized with a random value (for now just take it as zero).\n",
    "\n",
    "And plot the line, calculate the loss either.. MSE (mean squared error) or MAE (mean absolute error))\n",
    "\n",
    "![loss_reg_](Media/reg_loss_.gif)"
   ]
  }
 ],
 "metadata": {
  "kernelspec": {
   "display_name": "Python 3 (ipykernel)",
   "language": "python",
   "name": "python3"
  },
  "language_info": {
   "codemirror_mode": {
    "name": "ipython",
    "version": 3
   },
   "file_extension": ".py",
   "mimetype": "text/x-python",
   "name": "python",
   "nbconvert_exporter": "python",
   "pygments_lexer": "ipython3",
   "version": "3.12.0"
  }
 },
 "nbformat": 4,
 "nbformat_minor": 5
}
